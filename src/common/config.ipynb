{
 "cells": [
  {
   "cell_type": "code",
   "execution_count": 0,
   "metadata": {
    "application/vnd.databricks.v1+cell": {
     "cellMetadata": {
      "byteLimit": 2048000,
      "rowLimit": 10000
     },
     "inputWidgets": {},
     "nuid": "c66d6216-cbf6-46ab-af29-4f96234b5902",
     "showTitle": false,
     "tableResultSettingsMap": {},
     "title": ""
    }
   },
   "outputs": [],
   "source": [
    "class Config:\n",
    "  \n",
    "\n",
    "    def __init__(self, env='dev', is_predective_optimized = True):\n",
    "        self.env = env\n",
    "        self.create_catalog()\n",
    "        if is_predective_optimized:\n",
    "            self.enable_predective_optimization()\n",
    "\n",
    "    def create_catalog(self):\n",
    "        spark.sql(f\"CREATE CATALOG IF NOT EXISTS {self.env}\")\n",
    "        spark.sql(f\"USE CATALOG {self.env}\")\n",
    "\n",
    "    def get_bronze_external_location(self):\n",
    "        bronze_location = spark.sql(\"DESCRIBE EXTERNAL LOCATION bronze\").select(\"url\").collect()[0][0]\n",
    "        return bronze_location\n",
    "    \n",
    "    def get_silver_external_location(self):\n",
    "        silver_location = spark.sql(\"DESCRIBE EXTERNAL LOCATION silver\").select(\"url\").collect()[0][0]\n",
    "        return silver_location\n",
    "\n",
    "    def get_gold_external_location(self):\n",
    "        gold_location = spark.sql(\"DESCRIBE EXTERNAL LOCATION gold\").select(\"url\").collect()[0][0]\n",
    "        return gold_location\n",
    "\n",
    "    def get_archive_customers_external_location(self):\n",
    "        archive_customers_location = spark.sql(\"DESCRIBE EXTERNAL LOCATION customers_archive\").select(\"url\").collect()[0][0]\n",
    "        return archive_customers_location\n",
    "    \n",
    "    def get_archive_products_external_location(self):\n",
    "        archive_products_location = spark.sql(\"DESCRIBE EXTERNAL LOCATION products_archive\").select(\"url\").collect()[0][0]\n",
    "        return archive_products_location\n",
    "    \n",
    "    def get_archive_transactions_external_location(self):\n",
    "        archive_transactions_location = spark.sql(\"DESCRIBE EXTERNAL LOCATION transactions_archive\").select(\"url\").collect()[0][0]\n",
    "        return archive_transactions_location\n",
    "    \n",
    "    def get_customers_landing_external_location(self):\n",
    "        customers_landing_location = spark.sql(\"DESCRIBE EXTERNAL LOCATION customers_landing\").select(\"url\").collect()[0][0]\n",
    "        return customers_landing_location\n",
    "    \n",
    "    def get_products_landing_external_location(self):\n",
    "        products_landing_location = spark.sql(\"DESCRIBE EXTERNAL LOCATION products_landing\").select(\"url\").collect()[0][0]\n",
    "        return products_landing_location\n",
    "    \n",
    "    def get_transactions_landing_external_location(self):\n",
    "        transactions_landing_location = spark.sql(\"DESCRIBE EXTERNAL LOCATION transactions_landing\").select(\"url\").collect()[0][0]\n",
    "        return transactions_landing_location\n",
    "    \n",
    "    def enable_predective_optimization(self):\n",
    "        spark.sql(f\"ALTER CATALOG {self.env} ENABLE  PREDICTIVE OPTIMIZATION\")"
   ]
  }
 ],
 "metadata": {
  "application/vnd.databricks.v1+notebook": {
   "computePreferences": null,
   "dashboards": [],
   "environmentMetadata": {
    "base_environment": "",
    "environment_version": "2"
   },
   "inputWidgetPreferences": null,
   "language": "python",
   "notebookMetadata": {
    "mostRecentlyExecutedCommandWithImplicitDF": {
     "commandId": 5325060807308403,
     "dataframes": [
      "_sqldf"
     ]
    },
    "pythonIndentUnit": 4
   },
   "notebookName": "config",
   "widgets": {}
  },
  "language_info": {
   "name": "python"
  }
 },
 "nbformat": 4,
 "nbformat_minor": 0
}
